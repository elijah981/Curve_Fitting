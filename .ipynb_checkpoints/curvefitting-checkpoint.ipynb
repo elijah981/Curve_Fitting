{
 "cells": [
  {
   "cell_type": "markdown",
   "metadata": {
    "deletable": true,
    "editable": true
   },
   "source": [
    "# Curve Fitting Basics"
   ]
  },
  {
   "cell_type": "code",
   "execution_count": 90,
   "metadata": {
    "collapsed": true,
    "deletable": true,
    "editable": true
   },
   "outputs": [],
   "source": [
    "import numpy as np\n",
    "import matplotlib.pyplot as plt"
   ]
  },
  {
   "cell_type": "markdown",
   "metadata": {
    "deletable": true,
    "editable": true
   },
   "source": [
    "$$y = 2(x-4)^3 + 20$$"
   ]
  },
  {
   "cell_type": "code",
   "execution_count": 135,
   "metadata": {
    "collapsed": false,
    "deletable": true,
    "editable": true
   },
   "outputs": [
    {
     "data": {
      "image/png": "[encoded data removed]",
      "text/plain": [
       "<matplotlib.figure.Figure at 0xa5d9198>"
      ]
     },
     "metadata": {},
     "output_type": "display_data"
    }
   ],
   "source": [
    "x = np.arange(0,10,0.5)\n",
    "y = 2*(x-4)**3 + 200 + np.random.rand(x.size)*100\n",
    "\n",
    "plt.scatter(x,y)\n",
    "plt.show()"
   ]
  },
  {
   "cell_type": "code",
   "execution_count": 150,
   "metadata": {
    "collapsed": false,
    "deletable": true,
    "editable": true
   },
   "outputs": [],
   "source": [
    "def hypothesis(theta, x):\n",
    "    y = 0\n",
    "    for i in range(0,len(theta)):\n",
    "        y = y + theta[i]*x**i\n",
    "    return y"
   ]
  },
  {
   "cell_type": "code",
   "execution_count": 210,
   "metadata": {
    "collapsed": false,
    "deletable": true,
    "editable": true
   },
   "outputs": [
    {
     "data": {
      "image/png": "[encoded data removed]",
      "text/plain": [
       "<matplotlib.figure.Figure at 0xb4e8668>"
      ]
     },
     "metadata": {},
     "output_type": "display_data"
    }
   ],
   "source": [
    "for i in range(0,x.size):\n",
    "    y_pred[i] = hypothesis([0,50],x[i])\n",
    "plt.scatter(x,y)\n",
    "plt.plot(x,y_pred)\n",
    "plt.show()"
   ]
  },
  {
   "cell_type": "code",
   "execution_count": 211,
   "metadata": {
    "collapsed": false,
    "deletable": true,
    "editable": true
   },
   "outputs": [],
   "source": [
    "def cost(y, y_pred):\n",
    "    return sum((y - y_pred)**2 / (2*y.size))"
   ]
  },
  {
   "cell_type": "code",
   "execution_count": 212,
   "metadata": {
    "collapsed": false,
    "deletable": true,
    "editable": true
   },
   "outputs": [
    {
     "data": {
      "text/plain": [
       "3516.7621554445691"
      ]
     },
     "execution_count": 212,
     "metadata": {},
     "output_type": "execute_result"
    }
   ],
   "source": [
    "cost(y,y_pred)"
   ]
  },
  {
   "cell_type": "code",
   "execution_count": 214,
   "metadata": {
    "collapsed": false,
    "deletable": true,
    "editable": true
   },
   "outputs": [
    {
     "data": {
      "text/plain": [
       "3516.7621554445691"
      ]
     },
     "execution_count": 214,
     "metadata": {},
     "output_type": "execute_result"
    }
   ],
   "source": [
    "cost(y, hypothesis([0,50],x))"
   ]
  },
  {
   "cell_type": "code",
   "execution_count": 215,
   "metadata": {
    "collapsed": true,
    "deletable": true,
    "editable": true
   },
   "outputs": [],
   "source": [
    "def grad(y,hypothesis, theta, x):\n",
    "    dcost = np.zeros(len(theta))\n",
    "    for i in range(0,len(theta)):\n",
    "        th = np.zeros(len(theta))\n",
    "        th[i] = 0.001\n",
    "        dcost[i] = (cost(y,hypothesis(np.add(theta, th),x)) - cost(y,hypothesis(theta,x)))/th[i]\n",
    "    return dcost"
   ]
  },
  {
   "cell_type": "code",
   "execution_count": 245,
   "metadata": {
    "collapsed": false,
    "deletable": true,
    "editable": true
   },
   "outputs": [
    {
     "name": "stdout",
     "output_type": "stream",
     "text": [
      "3\n",
      "(265.09855313634034, 2165.8379601431079, 17142.21285333042)\n"
     ]
    }
   ],
   "source": [
    "theta = [0,50, 10]\n",
    "print(len(theta))\n",
    "dcost1 = (cost(y,hypothesis(np.add(theta, [0.001,0,0]),x)) - cost(y,hypothesis(theta,x)))/0.001\n",
    "dcost2 = (cost(y,hypothesis(np.add(theta, [0,0.001,0]),x)) - cost(y,hypothesis(theta,x)))/0.001\n",
    "dcost3 = (cost(y,hypothesis(np.add(theta, [0,0,0.001]),x)) - cost(y,hypothesis(theta,x)))/0.001\n",
    "print(dcost1, dcost2, dcost3)"
   ]
  },
  {
   "cell_type": "code",
   "execution_count": 246,
   "metadata": {
    "collapsed": false,
    "deletable": true,
    "editable": true
   },
   "outputs": [
    {
     "name": "stdout",
     "output_type": "stream",
     "text": [
      "[   265.09855314   2165.83796014  17142.21285333]\n"
     ]
    }
   ],
   "source": [
    "dcost = grad(y,hypothesis,theta,x)\n",
    "print(dcost)"
   ]
  },
  {
   "cell_type": "code",
   "execution_count": 258,
   "metadata": {
    "collapsed": false,
    "deletable": true,
    "editable": true
   },
   "outputs": [
    {
     "name": "stdout",
     "output_type": "stream",
     "text": [
      "Iterations: 128\n",
      "Update: [ 0.09951508  0.00189269]\n",
      "Error: 2461.53588592\n",
      "Theta: [ 37.34732133  47.27921632]\n"
     ]
    }
   ],
   "source": [
    "theta = [0,0]\n",
    "count = 0\n",
    "learning_rate = -0.01\n",
    "dtheta = np.arange(0,10)\n",
    "while dtheta.max()>0.1:\n",
    "    dcost = grad(y,hypothesis, theta, x)\n",
    "    theta_1 = np.add(theta, np.array(dcost)*learning_rate)\n",
    "    dtheta = (100*np.abs(np.subtract(theta_1, theta))**2)/theta_1\n",
    "    theta = theta_1\n",
    "    y_pred = hypothesis(theta,x)\n",
    "    #print(count, cost(y,y_pred), dtheta, dtheta.max())\n",
    "    count+=1\n",
    "print 'Iterations:',count \n",
    "print 'Update:',dtheta\n",
    "print 'Error:', cost(y,y_pred)\n",
    "print 'Theta:', theta"
   ]
  },
  {
   "cell_type": "code",
   "execution_count": 257,
   "metadata": {
    "collapsed": false,
    "deletable": true,
    "editable": true
   },
   "outputs": [
    {
     "data": {
      "image/png": "[encoded data removed]",
      "text/plain": [
       "<matplotlib.figure.Figure at 0xbed13c8>"
      ]
     },
     "metadata": {},
     "output_type": "display_data"
    }
   ],
   "source": [
    "for i in range(0,x.size):\n",
    "    y_pred[i] = hypothesis(theta,x[i])\n",
    "plt.scatter(x,y)\n",
    "plt.plot(x,y_pred)\n",
    "plt.show()"
   ]
  },
  {
   "cell_type": "code",
   "execution_count": null,
   "metadata": {
    "collapsed": true,
    "deletable": true,
    "editable": true
   },
   "outputs": [],
   "source": []
  }
 ],
 "metadata": {
  "kernelspec": {
   "display_name": "Python 2",
   "language": "python",
   "name": "python2"
  },
  "language_info": {
   "codemirror_mode": {
    "name": "ipython",
    "version": 2
   },
   "file_extension": ".py",
   "mimetype": "text/x-python",
   "name": "python",
   "nbconvert_exporter": "python",
   "pygments_lexer": "ipython2",
   "version": "2.7.13"
  }
 },
 "nbformat": 4,
 "nbformat_minor": 2
}
