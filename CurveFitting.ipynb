{
 "cells": [
  {
   "cell_type": "markdown",
   "metadata": {
    "deletable": true,
    "editable": true
   },
   "source": [
    "# Curve Fitting Basics"
   ]
  },
  {
   "cell_type": "markdown",
   "metadata": {},
   "source": [
    "One of the core principles of machine learning is to try and fit the data into a model. There are several ways of defining a model and there are multiple ways to fit the data in the model.\n",
    "\n",
    "But fitting data into equations is not a new concept. Curve fitting has existed for a long time.\n",
    "In this notebook, I wish to explore basics of curve fitting and hopefully develop this idea to be used in machine learning.\n",
    "\n",
    "Let's define the objectives for this notebook and slowly mature the objectives.\n",
    "\n",
    "1. Cost Function\n",
    "2. Fitting data <br>\n",
    "    a. Linear equation <br>\n",
    "    b. Quadratic equation <br>\n",
    "    c. Polynomial <br>\n",
    "    d. Lagrange's method <br>\n",
    "    e. Splines <br>\n",
    "3. Residuals\n",
    "4. Automation"
   ]
  },
  {
   "cell_type": "markdown",
   "metadata": {},
   "source": [
    "## 1. Cost Function\n",
    "\n",
    "Let's start by importing all the required libraries"
   ]
  },
  {
   "cell_type": "code",
   "execution_count": 1,
   "metadata": {
    "collapsed": true,
    "deletable": true,
    "editable": true
   },
   "outputs": [],
   "source": [
    "import numpy as np\n",
    "import matplotlib.pyplot as plt"
   ]
  },
  {
   "cell_type": "markdown",
   "metadata": {},
   "source": [
    "Let's generate data from an equation and add some randomness to it so that it looks real\n",
    "\n",
    "$$y = 2(x-4)^3 + 20 + noise$$"
   ]
  },
  {
   "cell_type": "code",
   "execution_count": 12,
   "metadata": {
    "collapsed": false,
    "deletable": true,
    "editable": true
   },
   "outputs": [
    {
     "data": {
      "image/png": "[encoded data removed]",
      "text/plain": [
       "<matplotlib.figure.Figure at 0xa40a6a0>"
      ]
     },
     "metadata": {},
     "output_type": "display_data"
    }
   ],
   "source": [
    "x = np.arange(0,10,0.5)\n",
    "y = 2*(x-4)**3 + 20 + 100*np.random.rand(x.size)\n",
    "plt.scatter(x,y)\n",
    "plt.show()"
   ]
  },
  {
   "cell_type": "markdown",
   "metadata": {},
   "source": [
    "Now if we model this equation using a linear equation $y_{pred} = ax + b$ then modelling would mean to find the values of $a$ and $b$.\n",
    "\n",
    "For now, let us assume that $a = 25$ and $b = -10$"
   ]
  },
  {
   "cell_type": "code",
   "execution_count": 14,
   "metadata": {
    "collapsed": false
   },
   "outputs": [
    {
     "data": {
      "image/png": "[encoded data removed]",
      "text/plain": [
       "<matplotlib.figure.Figure at 0xabbb898>"
      ]
     },
     "metadata": {},
     "output_type": "display_data"
    }
   ],
   "source": [
    "a = 25\n",
    "b = -10\n",
    "y_pred = a*x + b\n",
    "\n",
    "plt.scatter(x,y)\n",
    "plt.plot(x,y_pred)\n",
    "\n",
    "plt.show()"
   ]
  },
  {
   "cell_type": "markdown",
   "metadata": {},
   "source": [
    "Let us see how badly our model has performed w.r.t to the data. <br>\n",
    "We can plot the distance of each point from the line to get a better idea of this."
   ]
  },
  {
   "cell_type": "code",
   "execution_count": 66,
   "metadata": {
    "collapsed": false
   },
   "outputs": [
    {
     "data": {
      "image/png": "[encoded data removed]",
      "text/plain": [
       "<matplotlib.figure.Figure at 0xa961240>"
      ]
     },
     "metadata": {},
     "output_type": "display_data"
    },
    {
     "data": {
      "image/png": "[encoded data removed]",
      "text/plain": [
       "<matplotlib.figure.Figure at 0xad7f4a8>"
      ]
     },
     "metadata": {},
     "output_type": "display_data"
    }
   ],
   "source": [
    "from matplotlib.gridspec import GridSpec\n",
    "\n",
    "y_diff = np.abs(y - y_pred)\n",
    "\n",
    "plt.subplots(figsize=(7,5))\n",
    "plt.scatter(x,y)\n",
    "plt.plot(x,y_pred)\n",
    "plt.show()\n",
    "\n",
    "plt.subplots(figsize=(7,1))\n",
    "plt.bar(x,y_diff,width=0.1, align='center', color='red')\n",
    "plt.show()"
   ]
  },
  {
   "cell_type": "markdown",
   "metadata": {},
   "source": [
    "There multiple ways to define cost. \n",
    "1. Maximum difference between data and model\n",
    "2. Root mean square error\n",
    "\n",
    "Let's check how our model did terms of both these measures."
   ]
  },
  {
   "cell_type": "code",
   "execution_count": 67,
   "metadata": {
    "collapsed": false
   },
   "outputs": [
    {
     "name": "stdout",
     "output_type": "stream",
     "text": [
      "214.155758813\n",
      "562.168226019\n"
     ]
    }
   ],
   "source": [
    "cost1 = y_diff.max()\n",
    "cost2 = np.sqrt(np.sum(y_diff**2))\n",
    "print(cost1)\n",
    "print(cost2)"
   ]
  },
  {
   "cell_type": "markdown",
   "metadata": {},
   "source": [
    "Let's try with a different model and see what happens to the cost."
   ]
  },
  {
   "cell_type": "code",
   "execution_count": 69,
   "metadata": {
    "collapsed": false
   },
   "outputs": [
    {
     "name": "stdout",
     "output_type": "stream",
     "text": [
      "214.155758813\n",
      "562.168226019\n"
     ]
    }
   ],
   "source": [
    "a = 40\n",
    "b = 20\n",
    "y_pred = a*x + b\n",
    "y_diff = np.abs(y - y_pred)\n",
    "\n",
    "cost1 = y_diff.max()\n",
    "cost2 = np.sqrt(np.sum(y_diff**2))\n",
    "\n",
    "print(cost1)\n",
    "print(cost2)"
   ]
  },
  {
   "cell_type": "markdown",
   "metadata": {},
   "source": [
    "In fact, since we would want to test our model again and again for different values of $a$ and $b$, it would be beneficial to define a function for the same."
   ]
  },
  {
   "cell_type": "code",
   "execution_count": 70,
   "metadata": {
    "collapsed": true
   },
   "outputs": [],
   "source": [
    "def model(coeff, x):\n",
    "    y_pred = np.zeros(x.size)\n",
    "    for i in range(0, len(coeff)):\n",
    "        y_pred = y_pred + coeff[i]*x**i\n",
    "        \n",
    "    return y_pred"
   ]
  },
  {
   "cell_type": "code",
   "execution_count": 79,
   "metadata": {
    "collapsed": true
   },
   "outputs": [],
   "source": [
    "def objective(y, y_pred):\n",
    "    cost = np.zeros(2)\n",
    "    y_diff = np.abs(y - y_pred)\n",
    "    cost[0] = y_diff.max()\n",
    "    cost[1] = np.sqrt(np.sum(y_diff**2))\n",
    "    return cost"
   ]
  },
  {
   "cell_type": "markdown",
   "metadata": {},
   "source": [
    "Now lets see for different values of $a$ and $b$, what happens to the cost"
   ]
  },
  {
   "cell_type": "code",
   "execution_count": 90,
   "metadata": {
    "collapsed": false
   },
   "outputs": [
    {
     "name": "stdout",
     "output_type": "stream",
     "text": [
      "Sr.No\ta\tb\tcost[0]\tcost[1]\n",
      " 1\t 0\t 0\t 380\t 659\n",
      " 2\t 0\t25\t 355\t 589\n",
      " 3\t 0\t50\t 330\t 533\n",
      " 4\t 0\t75\t 305\t 496\n",
      " 5\t25\t 0\t 142\t 281\n",
      " 6\t25\t25\t 118\t 332\n",
      " 7\t25\t50\t 143\t 407\n",
      " 8\t25\t75\t 168\t 497\n",
      " 9\t50\t 0\t 264\t 703\n",
      "10\t50\t25\t 289\t 803\n",
      "11\t50\t50\t 314\t 905\n",
      "12\t50\t75\t 339\t1009\n",
      "13\t75\t 0\t 439\t1297\n",
      "14\t75\t25\t 464\t1396\n",
      "15\t75\t50\t 489\t1498\n",
      "16\t75\t75\t 514\t1601\n"
     ]
    }
   ],
   "source": [
    "a = np.arange(0,100,25)\n",
    "b = np.arange(0,100,25)\n",
    "index = 1;\n",
    "print(\"Sr.No\\ta\\tb\\tcost[0]\\tcost[1]\")\n",
    "for i in range(0,a.size):\n",
    "    for j in range(0,b.size):\n",
    "        y_pred = model([b[j], a[i]], x)\n",
    "        cost = objective(y, y_pred)\n",
    "        print(\"%2d\\t%2d\\t%2d\\t%4.2d\\t%4.2d\" % (index, a[i], b[j], cost[0], cost[1]))\n",
    "        index += 1"
   ]
  },
  {
   "cell_type": "code",
   "execution_count": 150,
   "metadata": {
    "collapsed": false,
    "deletable": true,
    "editable": true
   },
   "outputs": [],
   "source": [
    "def hypothesis(theta, x):\n",
    "    y = 0\n",
    "    for i in range(0,len(theta)):\n",
    "        y = y + theta[i]*x**i\n",
    "    return y"
   ]
  },
  {
   "cell_type": "code",
   "execution_count": 210,
   "metadata": {
    "collapsed": false,
    "deletable": true,
    "editable": true
   },
   "outputs": [
    {
     "data": {
      "image/png": "[encoded data removed]",
      "text/plain": [
       "<matplotlib.figure.Figure at 0xb4e8668>"
      ]
     },
     "metadata": {},
     "output_type": "display_data"
    }
   ],
   "source": [
    "for i in range(0,x.size):\n",
    "    y_pred[i] = hypothesis([0,50],x[i])\n",
    "plt.scatter(x,y)\n",
    "plt.plot(x,y_pred)\n",
    "plt.show()"
   ]
  },
  {
   "cell_type": "code",
   "execution_count": 211,
   "metadata": {
    "collapsed": false,
    "deletable": true,
    "editable": true
   },
   "outputs": [],
   "source": [
    "def cost(y, y_pred):\n",
    "    return sum((y - y_pred)**2 / (2*y.size))"
   ]
  },
  {
   "cell_type": "code",
   "execution_count": 212,
   "metadata": {
    "collapsed": false,
    "deletable": true,
    "editable": true
   },
   "outputs": [
    {
     "data": {
      "text/plain": [
       "3516.7621554445691"
      ]
     },
     "execution_count": 212,
     "metadata": {},
     "output_type": "execute_result"
    }
   ],
   "source": [
    "cost(y,y_pred)"
   ]
  },
  {
   "cell_type": "code",
   "execution_count": 214,
   "metadata": {
    "collapsed": false,
    "deletable": true,
    "editable": true
   },
   "outputs": [
    {
     "data": {
      "text/plain": [
       "3516.7621554445691"
      ]
     },
     "execution_count": 214,
     "metadata": {},
     "output_type": "execute_result"
    }
   ],
   "source": [
    "cost(y, hypothesis([0,50],x))"
   ]
  },
  {
   "cell_type": "code",
   "execution_count": 215,
   "metadata": {
    "collapsed": true,
    "deletable": true,
    "editable": true
   },
   "outputs": [],
   "source": [
    "def grad(y,hypothesis, theta, x):\n",
    "    dcost = np.zeros(len(theta))\n",
    "    for i in range(0,len(theta)):\n",
    "        th = np.zeros(len(theta))\n",
    "        th[i] = 0.001\n",
    "        dcost[i] = (cost(y,hypothesis(np.add(theta, th),x)) - cost(y,hypothesis(theta,x)))/th[i]\n",
    "    return dcost"
   ]
  },
  {
   "cell_type": "code",
   "execution_count": 245,
   "metadata": {
    "collapsed": false,
    "deletable": true,
    "editable": true
   },
   "outputs": [
    {
     "name": "stdout",
     "output_type": "stream",
     "text": [
      "3\n",
      "(265.09855313634034, 2165.8379601431079, 17142.21285333042)\n"
     ]
    }
   ],
   "source": [
    "theta = [0,50, 10]\n",
    "print(len(theta))\n",
    "dcost1 = (cost(y,hypothesis(np.add(theta, [0.001,0,0]),x)) - cost(y,hypothesis(theta,x)))/0.001\n",
    "dcost2 = (cost(y,hypothesis(np.add(theta, [0,0.001,0]),x)) - cost(y,hypothesis(theta,x)))/0.001\n",
    "dcost3 = (cost(y,hypothesis(np.add(theta, [0,0,0.001]),x)) - cost(y,hypothesis(theta,x)))/0.001\n",
    "print(dcost1, dcost2, dcost3)"
   ]
  },
  {
   "cell_type": "code",
   "execution_count": 246,
   "metadata": {
    "collapsed": false,
    "deletable": true,
    "editable": true
   },
   "outputs": [
    {
     "name": "stdout",
     "output_type": "stream",
     "text": [
      "[   265.09855314   2165.83796014  17142.21285333]\n"
     ]
    }
   ],
   "source": [
    "dcost = grad(y,hypothesis,theta,x)\n",
    "print(dcost)"
   ]
  },
  {
   "cell_type": "code",
   "execution_count": 258,
   "metadata": {
    "collapsed": false,
    "deletable": true,
    "editable": true
   },
   "outputs": [
    {
     "name": "stdout",
     "output_type": "stream",
     "text": [
      "Iterations: 128\n",
      "Update: [ 0.09951508  0.00189269]\n",
      "Error: 2461.53588592\n",
      "Theta: [ 37.34732133  47.27921632]\n"
     ]
    }
   ],
   "source": [
    "theta = [0,0]\n",
    "count = 0\n",
    "learning_rate = -0.01\n",
    "dtheta = np.arange(0,10)\n",
    "while dtheta.max()>0.1:\n",
    "    dcost = grad(y,hypothesis, theta, x)\n",
    "    theta_1 = np.add(theta, np.array(dcost)*learning_rate)\n",
    "    dtheta = (100*np.abs(np.subtract(theta_1, theta))**2)/theta_1\n",
    "    theta = theta_1\n",
    "    y_pred = hypothesis(theta,x)\n",
    "    #print(count, cost(y,y_pred), dtheta, dtheta.max())\n",
    "    count+=1\n",
    "print 'Iterations:',count \n",
    "print 'Update:',dtheta\n",
    "print 'Error:', cost(y,y_pred)\n",
    "print 'Theta:', theta"
   ]
  },
  {
   "cell_type": "code",
   "execution_count": 257,
   "metadata": {
    "collapsed": false,
    "deletable": true,
    "editable": true
   },
   "outputs": [
    {
     "data": {
      "image/png": "[encoded data removed]",
      "text/plain": [
       "<matplotlib.figure.Figure at 0xbed13c8>"
      ]
     },
     "metadata": {},
     "output_type": "display_data"
    }
   ],
   "source": [
    "for i in range(0,x.size):\n",
    "    y_pred[i] = hypothesis(theta,x[i])\n",
    "plt.scatter(x,y)\n",
    "plt.plot(x,y_pred)\n",
    "plt.show()"
   ]
  },
  {
   "cell_type": "code",
   "execution_count": null,
   "metadata": {
    "collapsed": true,
    "deletable": true,
    "editable": true
   },
   "outputs": [],
   "source": []
  }
 ],
 "metadata": {
  "kernelspec": {
   "display_name": "Python 2",
   "language": "python",
   "name": "python2"
  },
  "language_info": {
   "codemirror_mode": {
    "name": "ipython",
    "version": 2
   },
   "file_extension": ".py",
   "mimetype": "text/x-python",
   "name": "python",
   "nbconvert_exporter": "python",
   "pygments_lexer": "ipython2",
   "version": "2.7.13"
  }
 },
 "nbformat": 4,
 "nbformat_minor": 2
}
